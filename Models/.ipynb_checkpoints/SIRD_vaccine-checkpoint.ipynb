{
 "cells": [
  {
   "cell_type": "code",
   "execution_count": 1,
   "id": "cfc0d205-540c-423b-aa20-cae40c6c156e",
   "metadata": {},
   "outputs": [],
   "source": [
    "# oltás\n",
    "# SIR_D\n",
    "import numpy as np\n",
    "\n",
    "beta_vaccine = 1\n",
    "beta_virus = 3\n",
    "gamma_vaccine = 1\n",
    "gamma_virus = 1\n",
    "mu_vaccine = 0.0001\n",
    "mu_virus = 0.01    \n",
    "\n",
    "T=10\n",
    "dt=0.001\n",
    "nsteps=round(T/dt)\n",
    "v_S=np.zeros([nsteps+1])\n",
    "v_I_vaccine=np.zeros([nsteps+1])\n",
    "v_I_virus=np.zeros([nsteps+1])\n",
    "v_R=np.zeros([nsteps+1])\n",
    "v_D=np.zeros([nsteps+1])\n",
    "v_S[0]=0.98\n",
    "v_I_vaccine[0] = 0.01\n",
    "v_I_virus[0] = 0.01\n",
    "\n",
    "for t in range(nsteps):\n",
    "    mu_vaccine_1 = mu_vaccine+mu_vaccine*v_I_vaccine[t]\n",
    "    mu_virus_2 = mu_virus+mu_virus*v_I_virus[t]\n",
    "    v_S[t+1]=v_S[t]-dt*v_S[t]*(beta_vaccine*v_I_vaccine[t]+beta_virus*v_I_virus[t])\n",
    "    v_I_vaccine[t+1]=v_I_vaccine[t]+dt*beta_vaccine*v_S[t]*v_I_vaccine[t]-gamma_vaccine*v_I_vaccine[t]*dt\n",
    "    v_I_virus[t+1]=v_I_virus[t]+dt*beta_virus*v_S[t]*v_I_virus[t]-gamma_virus*v_I_virus[t]*dt\n",
    "    v_R[t+1]=v_R[t]+(1-mu_vaccine_1)*gamma_vaccine*v_I_vaccine[t]*dt+(1-mu_virus_2)*gamma_virus*v_I_virus[t]*dt\n",
    "    v_D[t+1]=v_D[t]+mu_vaccine_1*gamma_vaccine*v_I_vaccine[t]*dt+mu_virus_2*gamma_virus*v_I_virus[t]*dt"
   ]
  },
  {
   "cell_type": "code",
   "execution_count": 2,
   "id": "4f403a9e-aeef-45c8-aada-baa3de65463f",
   "metadata": {},
   "outputs": [
    {
     "ename": "NameError",
     "evalue": "name 'v_I_1' is not defined",
     "output_type": "error",
     "traceback": [
      "\u001b[1;31m---------------------------------------------------------------------------\u001b[0m",
      "\u001b[1;31mNameError\u001b[0m                                 Traceback (most recent call last)",
      "Cell \u001b[1;32mIn[2], line 5\u001b[0m\n\u001b[0;32m      3\u001b[0m plt\u001b[38;5;241m.\u001b[39mfigure()\n\u001b[0;32m      4\u001b[0m plt\u001b[38;5;241m.\u001b[39mplot(trange,v_S,label\u001b[38;5;241m=\u001b[39m\u001b[38;5;124m'\u001b[39m\u001b[38;5;124mS\u001b[39m\u001b[38;5;124m'\u001b[39m)\n\u001b[1;32m----> 5\u001b[0m plt\u001b[38;5;241m.\u001b[39mplot(trange,v_I_1,label\u001b[38;5;241m=\u001b[39m\u001b[38;5;124m'\u001b[39m\u001b[38;5;124mI_vaccine\u001b[39m\u001b[38;5;124m'\u001b[39m)\n\u001b[0;32m      6\u001b[0m plt\u001b[38;5;241m.\u001b[39mplot(trange,v_I_2,label\u001b[38;5;241m=\u001b[39m\u001b[38;5;124m'\u001b[39m\u001b[38;5;124mI_virus\u001b[39m\u001b[38;5;124m'\u001b[39m)\n\u001b[0;32m      7\u001b[0m plt\u001b[38;5;241m.\u001b[39mplot(trange,v_R,label\u001b[38;5;241m=\u001b[39m\u001b[38;5;124m'\u001b[39m\u001b[38;5;124mR\u001b[39m\u001b[38;5;124m'\u001b[39m)\n",
      "\u001b[1;31mNameError\u001b[0m: name 'v_I_1' is not defined"
     ]
    },
    {
     "data": {
      "image/png": "[encoded data removed]",
      "text/plain": [
       "<Figure size 640x480 with 1 Axes>"
      ]
     },
     "metadata": {},
     "output_type": "display_data"
    }
   ],
   "source": [
    "import matplotlib.pyplot as plt\n",
    "trange=[t*dt for t in range(nsteps+1)]\n",
    "plt.figure()\n",
    "plt.plot(trange,v_S,label='S')\n",
    "plt.plot(trange,v_I_vaccine,label='I_vaccine')\n",
    "plt.plot(trange,v_I_virus,label='I_virus')\n",
    "plt.plot(trange,v_R,label='R')\n",
    "plt.plot(trange,v_D,label='D')\n",
    "\n",
    "plt.legend()\n",
    "\n",
    "plt.xlabel('Time')\n",
    "plt.ylabel('Population [%]')\n",
    "plt.savefig('Diagrams/SIR_D_virus_vaccine_3_1_.png', bbox_inches='tight') #Ábra mentése"
   ]
  },
  {
   "cell_type": "code",
   "execution_count": null,
   "id": "cfe4f993-5080-480e-b784-8e7317f07490",
   "metadata": {},
   "outputs": [],
   "source": []
  }
 ],
 "metadata": {
  "kernelspec": {
   "display_name": "Python 3 (ipykernel)",
   "language": "python",
   "name": "python3"
  },
  "language_info": {
   "codemirror_mode": {
    "name": "ipython",
    "version": 3
   },
   "file_extension": ".py",
   "mimetype": "text/x-python",
   "name": "python",
   "nbconvert_exporter": "python",
   "pygments_lexer": "ipython3",
   "version": "3.11.7"
  }
 },
 "nbformat": 4,
 "nbformat_minor": 5
}
