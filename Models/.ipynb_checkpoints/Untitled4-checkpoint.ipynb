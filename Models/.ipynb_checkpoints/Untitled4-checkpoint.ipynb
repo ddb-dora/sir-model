{
 "cells": [
  {
   "cell_type": "code",
   "execution_count": null,
   "id": "cfc0d205-540c-423b-aa20-cae40c6c156e",
   "metadata": {},
   "outputs": [],
   "source": [
    "# oltás\n",
    "# SIR_D\n",
    "beta_vaccine = 1\n",
    "beta_virus = 3\n",
    "gamma_vaccine = 1\n",
    "gamma_virus = 1\n",
    "mu_vaccine = 0.0001\n",
    "mu_virus = 0.01    \n",
    "\n",
    "T=10\n",
    "dt=0.001\n",
    "nsteps=round(T/dt)\n",
    "v_S=np.zeros([nsteps+1])\n",
    "v_I_vaccine=np.zeros([nsteps+1])\n",
    "v_I_virus=np.zeros([nsteps+1])\n",
    "v_R=np.zeros([nsteps+1])\n",
    "v_D=np.zeros([nsteps+1])\n",
    "v_S[0]=0.98\n",
    "v_I_vaccine[0] = 0.01\n",
    "v_I_virus[0] = 0.01\n",
    "\n",
    "for t in range(nsteps):\n",
    "    mu_vaccine_1 = mu_vaccine+mu_vaccine*v_I_vaccine[t]\n",
    "    mu_virus_2 = mu_virus+mu_virus*v_I_virus[t]\n",
    "    v_S[t+1]=v_S[t]-dt*v_S[t]*(beta_vaccine*v_I_vaccine[t]+beta_virus*v_I_virus[t])\n",
    "    v_I_vaccine[t+1]=v_I_vaccine[t]+dt*beta_vaccine*v_S[t]*v_I_vaccine[t]-gamma_vaccine*v_I_vaccine[t]*dt\n",
    "    v_I_virus[t+1]=v_I_virus[t]+dt*beta_virus*v_S[t]*v_I_virus[t]-gamma_virus*v_I_virus[t]*dt\n",
    "    v_R[t+1]=v_R[t]+(1-mu_vaccine_1)*gamma_vaccine*v_I_vaccine[t]*dt+(1-mu_virus_2)*gamma_virus*v_I_virus[t]*dt\n",
    "    v_D[t+1]=v_D[t]+mu_vaccine_1*gamma_vaccine*v_I_vaccine[t]*dt+mu_virus_2*gamma_virus*v_I_virus[t]*dt"
   ]
  }
 ],
 "metadata": {
  "kernelspec": {
   "display_name": "Python 3 (ipykernel)",
   "language": "python",
   "name": "python3"
  },
  "language_info": {
   "codemirror_mode": {
    "name": "ipython",
    "version": 3
   },
   "file_extension": ".py",
   "mimetype": "text/x-python",
   "name": "python",
   "nbconvert_exporter": "python",
   "pygments_lexer": "ipython3",
   "version": "3.11.7"
  }
 },
 "nbformat": 4,
 "nbformat_minor": 5
}
