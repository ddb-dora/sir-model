{
 "cells": [
  {
   "cell_type": "code",
   "execution_count": 4,
   "id": "d385dcaf-f4e5-47f0-92b0-bdda13ce9d76",
   "metadata": {},
   "outputs": [
    {
     "ename": "ModuleNotFoundError",
     "evalue": "No module named 'numpy'",
     "output_type": "error",
     "traceback": [
      "\u001b[1;31m---------------------------------------------------------------------------\u001b[0m",
      "\u001b[1;31mModuleNotFoundError\u001b[0m                       Traceback (most recent call last)",
      "Cell \u001b[1;32mIn[4], line 2\u001b[0m\n\u001b[0;32m      1\u001b[0m \u001b[38;5;66;03m#SIR\u001b[39;00m\n\u001b[1;32m----> 2\u001b[0m \u001b[38;5;28;01mimport\u001b[39;00m \u001b[38;5;21;01mnumpy\u001b[39;00m \u001b[38;5;28;01mas\u001b[39;00m \u001b[38;5;21;01mnp\u001b[39;00m \u001b[38;5;66;03m# type: ignore\u001b[39;00m\n\u001b[0;32m      4\u001b[0m beta\u001b[38;5;241m=\u001b[39m\u001b[38;5;241m3\u001b[39m\n\u001b[0;32m      5\u001b[0m gamma\u001b[38;5;241m=\u001b[39m\u001b[38;5;241m1\u001b[39m\n",
      "\u001b[1;31mModuleNotFoundError\u001b[0m: No module named 'numpy'"
     ]
    }
   ],
   "source": [
    "#SIR\n",
    "import numpy as np \n",
    "\n",
    "beta=3\n",
    "gamma=1\n",
    "\n",
    "T=10\n",
    "dt=0.001\n",
    "nsteps=round(T/dt)\n",
    "v_S=np.zeros([nsteps+1])\n",
    "v_I=np.zeros([nsteps+1])\n",
    "v_R=np.zeros([nsteps+1])\n",
    "v_S[0]=0.99\n",
    "v_I[0]=0.01\n",
    "\n",
    "# SIR\n",
    "for t in range(nsteps):\n",
    "    v_S[t+1]=v_S[t]-dt*beta*v_S[t]*v_I[t]\n",
    "    v_I[t+1]=v_I[t]+dt*beta*v_S[t]*v_I[t]-gamma*v_I[t]*dt\n",
    "    v_R[t+1]=v_R[t]+gamma*v_I[t]*dt"
   ]
  },
  {
   "cell_type": "code",
   "execution_count": 3,
   "id": "b6a03c7c-31e0-4885-a235-ced83dbd3069",
   "metadata": {},
   "outputs": [
    {
     "ename": "ModuleNotFoundError",
     "evalue": "No module named 'matplotlib'",
     "output_type": "error",
     "traceback": [
      "\u001b[1;31m---------------------------------------------------------------------------\u001b[0m",
      "\u001b[1;31mModuleNotFoundError\u001b[0m                       Traceback (most recent call last)",
      "Cell \u001b[1;32mIn[3], line 2\u001b[0m\n\u001b[0;32m      1\u001b[0m \u001b[38;5;66;03m#SIR diagram\u001b[39;00m\n\u001b[1;32m----> 2\u001b[0m \u001b[38;5;28;01mimport\u001b[39;00m \u001b[38;5;21;01mmatplotlib\u001b[39;00m\u001b[38;5;21;01m.\u001b[39;00m\u001b[38;5;21;01mpyplot\u001b[39;00m \u001b[38;5;28;01mas\u001b[39;00m \u001b[38;5;21;01mplt\u001b[39;00m\n\u001b[0;32m      3\u001b[0m trange\u001b[38;5;241m=\u001b[39m[t\u001b[38;5;241m*\u001b[39mdt \u001b[38;5;28;01mfor\u001b[39;00m t \u001b[38;5;129;01min\u001b[39;00m \u001b[38;5;28mrange\u001b[39m(nsteps\u001b[38;5;241m+\u001b[39m\u001b[38;5;241m1\u001b[39m)]\n\u001b[0;32m      4\u001b[0m plt\u001b[38;5;241m.\u001b[39mfigure()\n",
      "\u001b[1;31mModuleNotFoundError\u001b[0m: No module named 'matplotlib'"
     ]
    }
   ],
   "source": [
    "#SIR diagram\n",
    "import matplotlib.pyplot as plt\n",
    "trange=[t*dt for t in range(nsteps+1)]\n",
    "plt.figure()\n",
    "\n",
    "plt.plot(trange,v_S,label='S')\n",
    "plt.plot(trange,v_I,label='I')\n",
    "plt.plot(trange,v_R,label='R')\n",
    "plt.legend()\n",
    "\n",
    "plt.xlabel('Time')\n",
    "plt.ylabel('Population [%]')\n",
    "plt.savefig('Diagrams/SIR.png', bbox_inches='tight') #Ábra mentése"
   ]
  },
  {
   "cell_type": "code",
   "execution_count": 4,
   "id": "2745da83-c6ed-49a7-a216-f7ae722dd366",
   "metadata": {},
   "outputs": [
    {
     "name": "stdout",
     "output_type": "stream",
     "text": [
      "6348.585143311749\n",
      "Total number of deaths:  6348.585143311749\n",
      "Total number of infections:  0.9393846432467118\n",
      "Maximum amount of infected people at the same time:  0.3039299066025501\n",
      "Length of time when v_I(t)>t:  4.885999999999966\n"
     ]
    }
   ],
   "source": [
    "#SIR modellből kinyert adatok generálása\n",
    "#halottak száma (v_R)\n",
    "deaths = 0.00\n",
    "for i in v_R:\n",
    "    deaths += i\n",
    "\n",
    "print(sum(v_R))\n",
    "    \n",
    "print('Total number of deaths: ', deaths)\n",
    "\n",
    "#Összes fertőzőttek száma (v_I)\n",
    "infected = sum(v_I)*dt\n",
    "\n",
    "#infected += deaths\n",
    "print('Total number of infections: ', infected)\n",
    "\n",
    "#Maximális megbetegedések száma egyszerre\n",
    "beteg = 0.00\n",
    "for i in v_I:\n",
    "    if(i > beteg):\n",
    "        beteg = i\n",
    "\n",
    "print('Maximum amount of infected people at the same time: ', beteg)\n",
    "\n",
    "#Milyen hosszú időszakban volt t < v_I(t)\n",
    "#'túlterhelt időszak'\n",
    "t = 0.05\n",
    "greater = 0.000\n",
    "for i in v_I:\n",
    "    if(i > t):\n",
    "        greater += dt\n",
    "        \n",
    "print('Length of time when v_I(t)>t: ', greater)"
   ]
  },
  {
   "cell_type": "code",
   "execution_count": null,
   "id": "200cf1fd-889e-440f-aad9-595ef6f229ee",
   "metadata": {},
   "outputs": [],
   "source": []
  }
 ],
 "metadata": {
  "kernelspec": {
   "display_name": "Python 3 (ipykernel)",
   "language": "python",
   "name": "python3"
  },
  "language_info": {
   "codemirror_mode": {
    "name": "ipython",
    "version": 3
   },
   "file_extension": ".py",
   "mimetype": "text/x-python",
   "name": "python",
   "nbconvert_exporter": "python",
   "pygments_lexer": "ipython3",
   "version": "3.11.7"
  }
 },
 "nbformat": 4,
 "nbformat_minor": 5
}
